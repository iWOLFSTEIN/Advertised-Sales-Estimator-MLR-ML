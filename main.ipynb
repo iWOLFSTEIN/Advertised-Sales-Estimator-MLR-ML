{
 "cells": [
  {
   "cell_type": "code",
   "execution_count": 15,
   "metadata": {},
   "outputs": [],
   "source": [
    "import pandas as pd"
   ]
  },
  {
   "cell_type": "markdown",
   "metadata": {},
   "source": [
    "**Dataset Overview**\n",
    "\n",
    "- The dataset below represent how many sales (in millions) we can get based on the different promotional/advertisement means\n",
    "- For example, if we spend some money (in millions) for advertisement on TV, some money on social media, some money on radio and hire a influencer as our brand embassoder, how much sales our product can get\n",
    "- We'll estimate sales based on different amount of money and different types of influencers"
   ]
  },
  {
   "cell_type": "code",
   "execution_count": 16,
   "metadata": {},
   "outputs": [
    {
     "data": {
      "text/html": [
       "<div>\n",
       "<style scoped>\n",
       "    .dataframe tbody tr th:only-of-type {\n",
       "        vertical-align: middle;\n",
       "    }\n",
       "\n",
       "    .dataframe tbody tr th {\n",
       "        vertical-align: top;\n",
       "    }\n",
       "\n",
       "    .dataframe thead th {\n",
       "        text-align: right;\n",
       "    }\n",
       "</style>\n",
       "<table border=\"1\" class=\"dataframe\">\n",
       "  <thead>\n",
       "    <tr style=\"text-align: right;\">\n",
       "      <th></th>\n",
       "      <th>TV</th>\n",
       "      <th>Radio</th>\n",
       "      <th>Social Media</th>\n",
       "      <th>Influencer</th>\n",
       "      <th>Sales</th>\n",
       "    </tr>\n",
       "  </thead>\n",
       "  <tbody>\n",
       "    <tr>\n",
       "      <th>0</th>\n",
       "      <td>16.0</td>\n",
       "      <td>6.566231</td>\n",
       "      <td>2.907983</td>\n",
       "      <td>Mega</td>\n",
       "      <td>54.732757</td>\n",
       "    </tr>\n",
       "    <tr>\n",
       "      <th>1</th>\n",
       "      <td>13.0</td>\n",
       "      <td>9.237765</td>\n",
       "      <td>2.409567</td>\n",
       "      <td>Mega</td>\n",
       "      <td>46.677897</td>\n",
       "    </tr>\n",
       "    <tr>\n",
       "      <th>2</th>\n",
       "      <td>41.0</td>\n",
       "      <td>15.886446</td>\n",
       "      <td>2.913410</td>\n",
       "      <td>Mega</td>\n",
       "      <td>150.177829</td>\n",
       "    </tr>\n",
       "    <tr>\n",
       "      <th>3</th>\n",
       "      <td>83.0</td>\n",
       "      <td>30.020028</td>\n",
       "      <td>6.922304</td>\n",
       "      <td>Mega</td>\n",
       "      <td>298.246340</td>\n",
       "    </tr>\n",
       "    <tr>\n",
       "      <th>4</th>\n",
       "      <td>15.0</td>\n",
       "      <td>8.437408</td>\n",
       "      <td>1.405998</td>\n",
       "      <td>Micro</td>\n",
       "      <td>56.594181</td>\n",
       "    </tr>\n",
       "  </tbody>\n",
       "</table>\n",
       "</div>"
      ],
      "text/plain": [
       "     TV      Radio  Social Media Influencer       Sales\n",
       "0  16.0   6.566231      2.907983       Mega   54.732757\n",
       "1  13.0   9.237765      2.409567       Mega   46.677897\n",
       "2  41.0  15.886446      2.913410       Mega  150.177829\n",
       "3  83.0  30.020028      6.922304       Mega  298.246340\n",
       "4  15.0   8.437408      1.405998      Micro   56.594181"
      ]
     },
     "execution_count": 16,
     "metadata": {},
     "output_type": "execute_result"
    }
   ],
   "source": [
    "df = pd.read_csv(\"advertised_sales_estimates.csv\")\n",
    "df.head()"
   ]
  },
  {
   "cell_type": "markdown",
   "metadata": {},
   "source": [
    "**Getting Valuable Insights**\n",
    "\n",
    "- Below we can use different methods to get valueable insights about our dataset"
   ]
  },
  {
   "cell_type": "code",
   "execution_count": 17,
   "metadata": {},
   "outputs": [
    {
     "data": {
      "text/plain": [
       "Index(['TV', 'Radio', 'Social Media', 'Influencer', 'Sales'], dtype='object')"
      ]
     },
     "execution_count": 17,
     "metadata": {},
     "output_type": "execute_result"
    }
   ],
   "source": [
    "df.columns"
   ]
  },
  {
   "cell_type": "code",
   "execution_count": 18,
   "metadata": {},
   "outputs": [
    {
     "data": {
      "text/plain": [
       "array(['Mega', 'Micro', 'Nano', 'Macro'], dtype=object)"
      ]
     },
     "execution_count": 18,
     "metadata": {},
     "output_type": "execute_result"
    }
   ],
   "source": [
    "df.Influencer.unique()"
   ]
  },
  {
   "cell_type": "code",
   "execution_count": 19,
   "metadata": {},
   "outputs": [
    {
     "name": "stdout",
     "output_type": "stream",
     "text": [
      "<class 'pandas.core.frame.DataFrame'>\n",
      "RangeIndex: 4572 entries, 0 to 4571\n",
      "Data columns (total 5 columns):\n",
      " #   Column        Non-Null Count  Dtype  \n",
      "---  ------        --------------  -----  \n",
      " 0   TV            4562 non-null   float64\n",
      " 1   Radio         4568 non-null   float64\n",
      " 2   Social Media  4566 non-null   float64\n",
      " 3   Influencer    4572 non-null   object \n",
      " 4   Sales         4566 non-null   float64\n",
      "dtypes: float64(4), object(1)\n",
      "memory usage: 178.7+ KB\n"
     ]
    }
   ],
   "source": [
    "df.info()"
   ]
  },
  {
   "cell_type": "code",
   "execution_count": 20,
   "metadata": {},
   "outputs": [
    {
     "data": {
      "text/html": [
       "<div>\n",
       "<style scoped>\n",
       "    .dataframe tbody tr th:only-of-type {\n",
       "        vertical-align: middle;\n",
       "    }\n",
       "\n",
       "    .dataframe tbody tr th {\n",
       "        vertical-align: top;\n",
       "    }\n",
       "\n",
       "    .dataframe thead th {\n",
       "        text-align: right;\n",
       "    }\n",
       "</style>\n",
       "<table border=\"1\" class=\"dataframe\">\n",
       "  <thead>\n",
       "    <tr style=\"text-align: right;\">\n",
       "      <th></th>\n",
       "      <th>count</th>\n",
       "      <th>mean</th>\n",
       "      <th>std</th>\n",
       "      <th>min</th>\n",
       "      <th>25%</th>\n",
       "      <th>50%</th>\n",
       "      <th>75%</th>\n",
       "      <th>max</th>\n",
       "    </tr>\n",
       "  </thead>\n",
       "  <tbody>\n",
       "    <tr>\n",
       "      <th>TV</th>\n",
       "      <td>4562.0</td>\n",
       "      <td>54.066857</td>\n",
       "      <td>26.125054</td>\n",
       "      <td>10.000000</td>\n",
       "      <td>32.000000</td>\n",
       "      <td>53.000000</td>\n",
       "      <td>77.000000</td>\n",
       "      <td>100.000000</td>\n",
       "    </tr>\n",
       "    <tr>\n",
       "      <th>Radio</th>\n",
       "      <td>4568.0</td>\n",
       "      <td>18.160356</td>\n",
       "      <td>9.676958</td>\n",
       "      <td>0.000684</td>\n",
       "      <td>10.525957</td>\n",
       "      <td>17.859513</td>\n",
       "      <td>25.649730</td>\n",
       "      <td>48.871161</td>\n",
       "    </tr>\n",
       "    <tr>\n",
       "      <th>Social Media</th>\n",
       "      <td>4566.0</td>\n",
       "      <td>3.323956</td>\n",
       "      <td>2.212670</td>\n",
       "      <td>0.000031</td>\n",
       "      <td>1.527849</td>\n",
       "      <td>3.055565</td>\n",
       "      <td>4.807558</td>\n",
       "      <td>13.981662</td>\n",
       "    </tr>\n",
       "    <tr>\n",
       "      <th>Sales</th>\n",
       "      <td>4566.0</td>\n",
       "      <td>192.466602</td>\n",
       "      <td>93.133092</td>\n",
       "      <td>31.199409</td>\n",
       "      <td>112.322882</td>\n",
       "      <td>189.231172</td>\n",
       "      <td>272.507922</td>\n",
       "      <td>364.079751</td>\n",
       "    </tr>\n",
       "  </tbody>\n",
       "</table>\n",
       "</div>"
      ],
      "text/plain": [
       "               count        mean        std        min         25%  \\\n",
       "TV            4562.0   54.066857  26.125054  10.000000   32.000000   \n",
       "Radio         4568.0   18.160356   9.676958   0.000684   10.525957   \n",
       "Social Media  4566.0    3.323956   2.212670   0.000031    1.527849   \n",
       "Sales         4566.0  192.466602  93.133092  31.199409  112.322882   \n",
       "\n",
       "                     50%         75%         max  \n",
       "TV             53.000000   77.000000  100.000000  \n",
       "Radio          17.859513   25.649730   48.871161  \n",
       "Social Media    3.055565    4.807558   13.981662  \n",
       "Sales         189.231172  272.507922  364.079751  "
      ]
     },
     "execution_count": 20,
     "metadata": {},
     "output_type": "execute_result"
    }
   ],
   "source": [
    "df.describe().T"
   ]
  },
  {
   "cell_type": "markdown",
   "metadata": {},
   "source": [
    "**Checking of Null Values**\n",
    "\n",
    "- If we look up in the description of this dataframe we can see that data count for each column is different\n",
    "- That means some of the values in the columns are missing\n",
    "- We can check for those values and get count how much values in column are null"
   ]
  },
  {
   "cell_type": "code",
   "execution_count": 21,
   "metadata": {},
   "outputs": [
    {
     "data": {
      "text/plain": [
       "TV              10\n",
       "Radio            4\n",
       "Social Media     6\n",
       "Influencer       0\n",
       "Sales            6\n",
       "dtype: int64"
      ]
     },
     "execution_count": 21,
     "metadata": {},
     "output_type": "execute_result"
    }
   ],
   "source": [
    "df.isna().sum()"
   ]
  },
  {
   "cell_type": "markdown",
   "metadata": {},
   "source": [
    "**Getting All the Records with Null Values**\n",
    "\n",
    "- We'll get an array of True or False values, True value if the record has a null value in its attribute\n",
    "- With this array of True and False values we can get another dataframe of where atleast one of the attributes values are null\n",
    "- Giving the array of True and False values to dataframe only those records where value is True (or null) will be returned"
   ]
  },
  {
   "cell_type": "code",
   "execution_count": 27,
   "metadata": {},
   "outputs": [
    {
     "data": {
      "text/html": [
       "<div>\n",
       "<style scoped>\n",
       "    .dataframe tbody tr th:only-of-type {\n",
       "        vertical-align: middle;\n",
       "    }\n",
       "\n",
       "    .dataframe tbody tr th {\n",
       "        vertical-align: top;\n",
       "    }\n",
       "\n",
       "    .dataframe thead th {\n",
       "        text-align: right;\n",
       "    }\n",
       "</style>\n",
       "<table border=\"1\" class=\"dataframe\">\n",
       "  <thead>\n",
       "    <tr style=\"text-align: right;\">\n",
       "      <th></th>\n",
       "      <th>TV</th>\n",
       "      <th>Radio</th>\n",
       "      <th>Social Media</th>\n",
       "      <th>Influencer</th>\n",
       "      <th>Sales</th>\n",
       "    </tr>\n",
       "  </thead>\n",
       "  <tbody>\n",
       "    <tr>\n",
       "      <th>13</th>\n",
       "      <td>NaN</td>\n",
       "      <td>22.351667</td>\n",
       "      <td>3.031815</td>\n",
       "      <td>Mega</td>\n",
       "      <td>276.165351</td>\n",
       "    </tr>\n",
       "    <tr>\n",
       "      <th>26</th>\n",
       "      <td>NaN</td>\n",
       "      <td>34.111674</td>\n",
       "      <td>4.624148</td>\n",
       "      <td>Nano</td>\n",
       "      <td>342.913372</td>\n",
       "    </tr>\n",
       "    <tr>\n",
       "      <th>46</th>\n",
       "      <td>NaN</td>\n",
       "      <td>34.859637</td>\n",
       "      <td>7.781417</td>\n",
       "      <td>Mega</td>\n",
       "      <td>318.969784</td>\n",
       "    </tr>\n",
       "    <tr>\n",
       "      <th>75</th>\n",
       "      <td>NaN</td>\n",
       "      <td>6.482293</td>\n",
       "      <td>0.866845</td>\n",
       "      <td>Macro</td>\n",
       "      <td>91.177216</td>\n",
       "    </tr>\n",
       "    <tr>\n",
       "      <th>99</th>\n",
       "      <td>NaN</td>\n",
       "      <td>7.635819</td>\n",
       "      <td>1.554146</td>\n",
       "      <td>Macro</td>\n",
       "      <td>56.186730</td>\n",
       "    </tr>\n",
       "    <tr>\n",
       "      <th>119</th>\n",
       "      <td>NaN</td>\n",
       "      <td>30.470485</td>\n",
       "      <td>6.806919</td>\n",
       "      <td>Micro</td>\n",
       "      <td>336.818690</td>\n",
       "    </tr>\n",
       "    <tr>\n",
       "      <th>141</th>\n",
       "      <td>NaN</td>\n",
       "      <td>9.164464</td>\n",
       "      <td>1.096681</td>\n",
       "      <td>Macro</td>\n",
       "      <td>65.259189</td>\n",
       "    </tr>\n",
       "    <tr>\n",
       "      <th>163</th>\n",
       "      <td>NaN</td>\n",
       "      <td>38.118424</td>\n",
       "      <td>6.676611</td>\n",
       "      <td>Micro</td>\n",
       "      <td>328.555184</td>\n",
       "    </tr>\n",
       "    <tr>\n",
       "      <th>182</th>\n",
       "      <td>81.0</td>\n",
       "      <td>26.425422</td>\n",
       "      <td>NaN</td>\n",
       "      <td>Macro</td>\n",
       "      <td>288.649441</td>\n",
       "    </tr>\n",
       "    <tr>\n",
       "      <th>183</th>\n",
       "      <td>NaN</td>\n",
       "      <td>1.287060</td>\n",
       "      <td>0.396179</td>\n",
       "      <td>Macro</td>\n",
       "      <td>56.545293</td>\n",
       "    </tr>\n",
       "    <tr>\n",
       "      <th>184</th>\n",
       "      <td>25.0</td>\n",
       "      <td>0.413849</td>\n",
       "      <td>NaN</td>\n",
       "      <td>Macro</td>\n",
       "      <td>92.357092</td>\n",
       "    </tr>\n",
       "    <tr>\n",
       "      <th>186</th>\n",
       "      <td>73.0</td>\n",
       "      <td>25.340209</td>\n",
       "      <td>NaN</td>\n",
       "      <td>Mega</td>\n",
       "      <td>258.358969</td>\n",
       "    </tr>\n",
       "    <tr>\n",
       "      <th>189</th>\n",
       "      <td>89.0</td>\n",
       "      <td>29.682384</td>\n",
       "      <td>NaN</td>\n",
       "      <td>Macro</td>\n",
       "      <td>320.264397</td>\n",
       "    </tr>\n",
       "    <tr>\n",
       "      <th>192</th>\n",
       "      <td>41.0</td>\n",
       "      <td>13.142657</td>\n",
       "      <td>NaN</td>\n",
       "      <td>Nano</td>\n",
       "      <td>142.626865</td>\n",
       "    </tr>\n",
       "    <tr>\n",
       "      <th>195</th>\n",
       "      <td>34.0</td>\n",
       "      <td>12.660398</td>\n",
       "      <td>NaN</td>\n",
       "      <td>Mega</td>\n",
       "      <td>117.114141</td>\n",
       "    </tr>\n",
       "    <tr>\n",
       "      <th>197</th>\n",
       "      <td>98.0</td>\n",
       "      <td>NaN</td>\n",
       "      <td>6.399730</td>\n",
       "      <td>Nano</td>\n",
       "      <td>345.952838</td>\n",
       "    </tr>\n",
       "    <tr>\n",
       "      <th>200</th>\n",
       "      <td>89.0</td>\n",
       "      <td>NaN</td>\n",
       "      <td>4.535458</td>\n",
       "      <td>Micro</td>\n",
       "      <td>316.725624</td>\n",
       "    </tr>\n",
       "    <tr>\n",
       "      <th>203</th>\n",
       "      <td>22.0</td>\n",
       "      <td>NaN</td>\n",
       "      <td>4.132526</td>\n",
       "      <td>Macro</td>\n",
       "      <td>78.031498</td>\n",
       "    </tr>\n",
       "    <tr>\n",
       "      <th>206</th>\n",
       "      <td>12.0</td>\n",
       "      <td>NaN</td>\n",
       "      <td>1.230026</td>\n",
       "      <td>Micro</td>\n",
       "      <td>50.009210</td>\n",
       "    </tr>\n",
       "    <tr>\n",
       "      <th>208</th>\n",
       "      <td>77.0</td>\n",
       "      <td>25.598379</td>\n",
       "      <td>5.514787</td>\n",
       "      <td>Nano</td>\n",
       "      <td>NaN</td>\n",
       "    </tr>\n",
       "    <tr>\n",
       "      <th>210</th>\n",
       "      <td>NaN</td>\n",
       "      <td>17.007075</td>\n",
       "      <td>5.199635</td>\n",
       "      <td>Macro</td>\n",
       "      <td>208.816382</td>\n",
       "    </tr>\n",
       "    <tr>\n",
       "      <th>214</th>\n",
       "      <td>100.0</td>\n",
       "      <td>36.466753</td>\n",
       "      <td>5.635992</td>\n",
       "      <td>Mega</td>\n",
       "      <td>NaN</td>\n",
       "    </tr>\n",
       "    <tr>\n",
       "      <th>221</th>\n",
       "      <td>74.0</td>\n",
       "      <td>24.220634</td>\n",
       "      <td>0.285898</td>\n",
       "      <td>Micro</td>\n",
       "      <td>NaN</td>\n",
       "    </tr>\n",
       "    <tr>\n",
       "      <th>226</th>\n",
       "      <td>19.0</td>\n",
       "      <td>8.726783</td>\n",
       "      <td>0.497838</td>\n",
       "      <td>Mega</td>\n",
       "      <td>NaN</td>\n",
       "    </tr>\n",
       "    <tr>\n",
       "      <th>231</th>\n",
       "      <td>22.0</td>\n",
       "      <td>6.809752</td>\n",
       "      <td>0.011451</td>\n",
       "      <td>Macro</td>\n",
       "      <td>NaN</td>\n",
       "    </tr>\n",
       "    <tr>\n",
       "      <th>236</th>\n",
       "      <td>27.0</td>\n",
       "      <td>1.384415</td>\n",
       "      <td>2.398129</td>\n",
       "      <td>Nano</td>\n",
       "      <td>NaN</td>\n",
       "    </tr>\n",
       "  </tbody>\n",
       "</table>\n",
       "</div>"
      ],
      "text/plain": [
       "        TV      Radio  Social Media Influencer       Sales\n",
       "13     NaN  22.351667      3.031815       Mega  276.165351\n",
       "26     NaN  34.111674      4.624148       Nano  342.913372\n",
       "46     NaN  34.859637      7.781417       Mega  318.969784\n",
       "75     NaN   6.482293      0.866845      Macro   91.177216\n",
       "99     NaN   7.635819      1.554146      Macro   56.186730\n",
       "119    NaN  30.470485      6.806919      Micro  336.818690\n",
       "141    NaN   9.164464      1.096681      Macro   65.259189\n",
       "163    NaN  38.118424      6.676611      Micro  328.555184\n",
       "182   81.0  26.425422           NaN      Macro  288.649441\n",
       "183    NaN   1.287060      0.396179      Macro   56.545293\n",
       "184   25.0   0.413849           NaN      Macro   92.357092\n",
       "186   73.0  25.340209           NaN       Mega  258.358969\n",
       "189   89.0  29.682384           NaN      Macro  320.264397\n",
       "192   41.0  13.142657           NaN       Nano  142.626865\n",
       "195   34.0  12.660398           NaN       Mega  117.114141\n",
       "197   98.0        NaN      6.399730       Nano  345.952838\n",
       "200   89.0        NaN      4.535458      Micro  316.725624\n",
       "203   22.0        NaN      4.132526      Macro   78.031498\n",
       "206   12.0        NaN      1.230026      Micro   50.009210\n",
       "208   77.0  25.598379      5.514787       Nano         NaN\n",
       "210    NaN  17.007075      5.199635      Macro  208.816382\n",
       "214  100.0  36.466753      5.635992       Mega         NaN\n",
       "221   74.0  24.220634      0.285898      Micro         NaN\n",
       "226   19.0   8.726783      0.497838       Mega         NaN\n",
       "231   22.0   6.809752      0.011451      Macro         NaN\n",
       "236   27.0   1.384415      2.398129       Nano         NaN"
      ]
     },
     "execution_count": 27,
     "metadata": {},
     "output_type": "execute_result"
    }
   ],
   "source": [
    "null_records = df.isnull().any(axis=1)\n",
    "null_df = df[null_records]\n",
    "null_df"
   ]
  },
  {
   "cell_type": "code",
   "execution_count": 28,
   "metadata": {},
   "outputs": [
    {
     "name": "stdout",
     "output_type": "stream",
     "text": [
      "<class 'pandas.core.frame.DataFrame'>\n",
      "Index: 26 entries, 13 to 236\n",
      "Data columns (total 5 columns):\n",
      " #   Column        Non-Null Count  Dtype  \n",
      "---  ------        --------------  -----  \n",
      " 0   TV            16 non-null     float64\n",
      " 1   Radio         22 non-null     float64\n",
      " 2   Social Media  20 non-null     float64\n",
      " 3   Influencer    26 non-null     object \n",
      " 4   Sales         20 non-null     float64\n",
      "dtypes: float64(4), object(1)\n",
      "memory usage: 1.2+ KB\n"
     ]
    }
   ],
   "source": [
    "null_df.info()"
   ]
  },
  {
   "cell_type": "markdown",
   "metadata": {},
   "source": [
    "**Handling Null Values**\n",
    "\n",
    "- Only 26 records in 4572 are null, that's 0.5% of the original data, so we can drop them"
   ]
  },
  {
   "cell_type": "code",
   "execution_count": 29,
   "metadata": {},
   "outputs": [
    {
     "name": "stdout",
     "output_type": "stream",
     "text": [
      "<class 'pandas.core.frame.DataFrame'>\n",
      "Index: 4546 entries, 0 to 4571\n",
      "Data columns (total 5 columns):\n",
      " #   Column        Non-Null Count  Dtype  \n",
      "---  ------        --------------  -----  \n",
      " 0   TV            4546 non-null   float64\n",
      " 1   Radio         4546 non-null   float64\n",
      " 2   Social Media  4546 non-null   float64\n",
      " 3   Influencer    4546 non-null   object \n",
      " 4   Sales         4546 non-null   float64\n",
      "dtypes: float64(4), object(1)\n",
      "memory usage: 213.1+ KB\n"
     ]
    }
   ],
   "source": [
    "df = df.dropna()\n",
    "df.info()"
   ]
  },
  {
   "cell_type": "code",
   "execution_count": 30,
   "metadata": {},
   "outputs": [
    {
     "data": {
      "text/html": [
       "<div>\n",
       "<style scoped>\n",
       "    .dataframe tbody tr th:only-of-type {\n",
       "        vertical-align: middle;\n",
       "    }\n",
       "\n",
       "    .dataframe tbody tr th {\n",
       "        vertical-align: top;\n",
       "    }\n",
       "\n",
       "    .dataframe thead th {\n",
       "        text-align: right;\n",
       "    }\n",
       "</style>\n",
       "<table border=\"1\" class=\"dataframe\">\n",
       "  <thead>\n",
       "    <tr style=\"text-align: right;\">\n",
       "      <th></th>\n",
       "      <th>count</th>\n",
       "      <th>mean</th>\n",
       "      <th>std</th>\n",
       "      <th>min</th>\n",
       "      <th>25%</th>\n",
       "      <th>50%</th>\n",
       "      <th>75%</th>\n",
       "      <th>max</th>\n",
       "    </tr>\n",
       "  </thead>\n",
       "  <tbody>\n",
       "    <tr>\n",
       "      <th>TV</th>\n",
       "      <td>4546.0</td>\n",
       "      <td>54.062912</td>\n",
       "      <td>26.104942</td>\n",
       "      <td>10.000000</td>\n",
       "      <td>32.000000</td>\n",
       "      <td>53.000000</td>\n",
       "      <td>77.000000</td>\n",
       "      <td>100.000000</td>\n",
       "    </tr>\n",
       "    <tr>\n",
       "      <th>Radio</th>\n",
       "      <td>4546.0</td>\n",
       "      <td>18.157533</td>\n",
       "      <td>9.663260</td>\n",
       "      <td>0.000684</td>\n",
       "      <td>10.555355</td>\n",
       "      <td>17.859513</td>\n",
       "      <td>25.640603</td>\n",
       "      <td>48.871161</td>\n",
       "    </tr>\n",
       "    <tr>\n",
       "      <th>Social Media</th>\n",
       "      <td>4546.0</td>\n",
       "      <td>3.323473</td>\n",
       "      <td>2.211254</td>\n",
       "      <td>0.000031</td>\n",
       "      <td>1.530822</td>\n",
       "      <td>3.055565</td>\n",
       "      <td>4.804919</td>\n",
       "      <td>13.981662</td>\n",
       "    </tr>\n",
       "    <tr>\n",
       "      <th>Sales</th>\n",
       "      <td>4546.0</td>\n",
       "      <td>192.413332</td>\n",
       "      <td>93.019873</td>\n",
       "      <td>31.199409</td>\n",
       "      <td>112.434612</td>\n",
       "      <td>188.963678</td>\n",
       "      <td>272.324236</td>\n",
       "      <td>364.079751</td>\n",
       "    </tr>\n",
       "  </tbody>\n",
       "</table>\n",
       "</div>"
      ],
      "text/plain": [
       "               count        mean        std        min         25%  \\\n",
       "TV            4546.0   54.062912  26.104942  10.000000   32.000000   \n",
       "Radio         4546.0   18.157533   9.663260   0.000684   10.555355   \n",
       "Social Media  4546.0    3.323473   2.211254   0.000031    1.530822   \n",
       "Sales         4546.0  192.413332  93.019873  31.199409  112.434612   \n",
       "\n",
       "                     50%         75%         max  \n",
       "TV             53.000000   77.000000  100.000000  \n",
       "Radio          17.859513   25.640603   48.871161  \n",
       "Social Media    3.055565    4.804919   13.981662  \n",
       "Sales         188.963678  272.324236  364.079751  "
      ]
     },
     "execution_count": 30,
     "metadata": {},
     "output_type": "execute_result"
    }
   ],
   "source": [
    "df.describe().T"
   ]
  },
  {
   "cell_type": "code",
   "execution_count": 41,
   "metadata": {},
   "outputs": [
    {
     "data": {
      "text/plain": [
       "[array(['Macro', 'Mega', 'Micro', 'Nano'], dtype=object)]"
      ]
     },
     "execution_count": 41,
     "metadata": {},
     "output_type": "execute_result"
    }
   ],
   "source": [
    "from sklearn.preprocessing import OneHotEncoder\n",
    "\n",
    "encoder = OneHotEncoder()\n",
    "encoder.fit(df[[\"Influencer\"]])\n",
    "encoder.categories_"
   ]
  },
  {
   "cell_type": "code",
   "execution_count": 43,
   "metadata": {},
   "outputs": [
    {
     "data": {
      "text/plain": [
       "array([[0., 1., 0., 0.],\n",
       "       [0., 1., 0., 0.],\n",
       "       [0., 1., 0., 0.],\n",
       "       ...,\n",
       "       [0., 0., 1., 0.],\n",
       "       [1., 0., 0., 0.],\n",
       "       [0., 0., 1., 0.]])"
      ]
     },
     "execution_count": 43,
     "metadata": {},
     "output_type": "execute_result"
    }
   ],
   "source": [
    "encoded = encoder.transform(df[[\"Influencer\"]]).toarray()\n",
    "encoded"
   ]
  },
  {
   "cell_type": "code",
   "execution_count": 46,
   "metadata": {},
   "outputs": [
    {
     "name": "stderr",
     "output_type": "stream",
     "text": [
      "/var/folders/s4/6xfvsnk120q0qz068w2vlqzm0000gq/T/ipykernel_36036/1772669211.py:1: SettingWithCopyWarning: \n",
      "A value is trying to be set on a copy of a slice from a DataFrame.\n",
      "Try using .loc[row_indexer,col_indexer] = value instead\n",
      "\n",
      "See the caveats in the documentation: https://pandas.pydata.org/pandas-docs/stable/user_guide/indexing.html#returning-a-view-versus-a-copy\n",
      "  df[[\"Influencer_Macro\", \"Influencer_Mega\", \"Influencer_Micro\", \"Influencer_Nano\"]] = encoded\n"
     ]
    },
    {
     "data": {
      "text/html": [
       "<div>\n",
       "<style scoped>\n",
       "    .dataframe tbody tr th:only-of-type {\n",
       "        vertical-align: middle;\n",
       "    }\n",
       "\n",
       "    .dataframe tbody tr th {\n",
       "        vertical-align: top;\n",
       "    }\n",
       "\n",
       "    .dataframe thead th {\n",
       "        text-align: right;\n",
       "    }\n",
       "</style>\n",
       "<table border=\"1\" class=\"dataframe\">\n",
       "  <thead>\n",
       "    <tr style=\"text-align: right;\">\n",
       "      <th></th>\n",
       "      <th>TV</th>\n",
       "      <th>Radio</th>\n",
       "      <th>Social Media</th>\n",
       "      <th>Influencer</th>\n",
       "      <th>Sales</th>\n",
       "      <th>Influencer_Macro</th>\n",
       "      <th>Influencer_Mega</th>\n",
       "      <th>Influencer_Micro</th>\n",
       "      <th>Influencer_Nano</th>\n",
       "    </tr>\n",
       "  </thead>\n",
       "  <tbody>\n",
       "    <tr>\n",
       "      <th>0</th>\n",
       "      <td>16.0</td>\n",
       "      <td>6.566231</td>\n",
       "      <td>2.907983</td>\n",
       "      <td>Mega</td>\n",
       "      <td>54.732757</td>\n",
       "      <td>0.0</td>\n",
       "      <td>1.0</td>\n",
       "      <td>0.0</td>\n",
       "      <td>0.0</td>\n",
       "    </tr>\n",
       "    <tr>\n",
       "      <th>1</th>\n",
       "      <td>13.0</td>\n",
       "      <td>9.237765</td>\n",
       "      <td>2.409567</td>\n",
       "      <td>Mega</td>\n",
       "      <td>46.677897</td>\n",
       "      <td>0.0</td>\n",
       "      <td>1.0</td>\n",
       "      <td>0.0</td>\n",
       "      <td>0.0</td>\n",
       "    </tr>\n",
       "    <tr>\n",
       "      <th>2</th>\n",
       "      <td>41.0</td>\n",
       "      <td>15.886446</td>\n",
       "      <td>2.913410</td>\n",
       "      <td>Mega</td>\n",
       "      <td>150.177829</td>\n",
       "      <td>0.0</td>\n",
       "      <td>1.0</td>\n",
       "      <td>0.0</td>\n",
       "      <td>0.0</td>\n",
       "    </tr>\n",
       "    <tr>\n",
       "      <th>3</th>\n",
       "      <td>83.0</td>\n",
       "      <td>30.020028</td>\n",
       "      <td>6.922304</td>\n",
       "      <td>Mega</td>\n",
       "      <td>298.246340</td>\n",
       "      <td>0.0</td>\n",
       "      <td>1.0</td>\n",
       "      <td>0.0</td>\n",
       "      <td>0.0</td>\n",
       "    </tr>\n",
       "    <tr>\n",
       "      <th>4</th>\n",
       "      <td>15.0</td>\n",
       "      <td>8.437408</td>\n",
       "      <td>1.405998</td>\n",
       "      <td>Micro</td>\n",
       "      <td>56.594181</td>\n",
       "      <td>0.0</td>\n",
       "      <td>0.0</td>\n",
       "      <td>1.0</td>\n",
       "      <td>0.0</td>\n",
       "    </tr>\n",
       "  </tbody>\n",
       "</table>\n",
       "</div>"
      ],
      "text/plain": [
       "     TV      Radio  Social Media Influencer       Sales  Influencer_Macro  \\\n",
       "0  16.0   6.566231      2.907983       Mega   54.732757               0.0   \n",
       "1  13.0   9.237765      2.409567       Mega   46.677897               0.0   \n",
       "2  41.0  15.886446      2.913410       Mega  150.177829               0.0   \n",
       "3  83.0  30.020028      6.922304       Mega  298.246340               0.0   \n",
       "4  15.0   8.437408      1.405998      Micro   56.594181               0.0   \n",
       "\n",
       "   Influencer_Mega  Influencer_Micro  Influencer_Nano  \n",
       "0              1.0               0.0              0.0  \n",
       "1              1.0               0.0              0.0  \n",
       "2              1.0               0.0              0.0  \n",
       "3              1.0               0.0              0.0  \n",
       "4              0.0               1.0              0.0  "
      ]
     },
     "execution_count": 46,
     "metadata": {},
     "output_type": "execute_result"
    }
   ],
   "source": [
    "df[[\"Influencer_Macro\", \"Influencer_Mega\", \"Influencer_Micro\", \"Influencer_Nano\"]] = encoded\n",
    "df.head()"
   ]
  },
  {
   "cell_type": "code",
   "execution_count": 61,
   "metadata": {},
   "outputs": [
    {
     "data": {
      "text/html": [
       "<div>\n",
       "<style scoped>\n",
       "    .dataframe tbody tr th:only-of-type {\n",
       "        vertical-align: middle;\n",
       "    }\n",
       "\n",
       "    .dataframe tbody tr th {\n",
       "        vertical-align: top;\n",
       "    }\n",
       "\n",
       "    .dataframe thead th {\n",
       "        text-align: right;\n",
       "    }\n",
       "</style>\n",
       "<table border=\"1\" class=\"dataframe\">\n",
       "  <thead>\n",
       "    <tr style=\"text-align: right;\">\n",
       "      <th></th>\n",
       "      <th>TV</th>\n",
       "      <th>Radio</th>\n",
       "      <th>Social Media</th>\n",
       "      <th>Sales</th>\n",
       "      <th>Influencer_Macro</th>\n",
       "      <th>Influencer_Mega</th>\n",
       "      <th>Influencer_Micro</th>\n",
       "      <th>Influencer_Nano</th>\n",
       "    </tr>\n",
       "  </thead>\n",
       "  <tbody>\n",
       "    <tr>\n",
       "      <th>TV</th>\n",
       "      <td>1.000000</td>\n",
       "      <td>0.869158</td>\n",
       "      <td>0.527687</td>\n",
       "      <td>0.999497</td>\n",
       "      <td>0.022174</td>\n",
       "      <td>-0.012797</td>\n",
       "      <td>-0.005048</td>\n",
       "      <td>-0.004097</td>\n",
       "    </tr>\n",
       "    <tr>\n",
       "      <th>Radio</th>\n",
       "      <td>0.869158</td>\n",
       "      <td>1.000000</td>\n",
       "      <td>0.606338</td>\n",
       "      <td>0.868638</td>\n",
       "      <td>0.012859</td>\n",
       "      <td>-0.006580</td>\n",
       "      <td>0.002400</td>\n",
       "      <td>-0.008570</td>\n",
       "    </tr>\n",
       "    <tr>\n",
       "      <th>Social Media</th>\n",
       "      <td>0.527687</td>\n",
       "      <td>0.606338</td>\n",
       "      <td>1.000000</td>\n",
       "      <td>0.527446</td>\n",
       "      <td>0.014152</td>\n",
       "      <td>0.012437</td>\n",
       "      <td>-0.013923</td>\n",
       "      <td>-0.012582</td>\n",
       "    </tr>\n",
       "    <tr>\n",
       "      <th>Sales</th>\n",
       "      <td>0.999497</td>\n",
       "      <td>0.868638</td>\n",
       "      <td>0.527446</td>\n",
       "      <td>1.000000</td>\n",
       "      <td>0.022349</td>\n",
       "      <td>-0.012530</td>\n",
       "      <td>-0.005218</td>\n",
       "      <td>-0.004367</td>\n",
       "    </tr>\n",
       "    <tr>\n",
       "      <th>Influencer_Macro</th>\n",
       "      <td>0.022174</td>\n",
       "      <td>0.012859</td>\n",
       "      <td>0.014152</td>\n",
       "      <td>0.022349</td>\n",
       "      <td>1.000000</td>\n",
       "      <td>-0.331530</td>\n",
       "      <td>-0.330759</td>\n",
       "      <td>-0.328061</td>\n",
       "    </tr>\n",
       "    <tr>\n",
       "      <th>Influencer_Mega</th>\n",
       "      <td>-0.012797</td>\n",
       "      <td>-0.006580</td>\n",
       "      <td>0.012437</td>\n",
       "      <td>-0.012530</td>\n",
       "      <td>-0.331530</td>\n",
       "      <td>1.000000</td>\n",
       "      <td>-0.338633</td>\n",
       "      <td>-0.335871</td>\n",
       "    </tr>\n",
       "    <tr>\n",
       "      <th>Influencer_Micro</th>\n",
       "      <td>-0.005048</td>\n",
       "      <td>0.002400</td>\n",
       "      <td>-0.013923</td>\n",
       "      <td>-0.005218</td>\n",
       "      <td>-0.330759</td>\n",
       "      <td>-0.338633</td>\n",
       "      <td>1.000000</td>\n",
       "      <td>-0.335090</td>\n",
       "    </tr>\n",
       "    <tr>\n",
       "      <th>Influencer_Nano</th>\n",
       "      <td>-0.004097</td>\n",
       "      <td>-0.008570</td>\n",
       "      <td>-0.012582</td>\n",
       "      <td>-0.004367</td>\n",
       "      <td>-0.328061</td>\n",
       "      <td>-0.335871</td>\n",
       "      <td>-0.335090</td>\n",
       "      <td>1.000000</td>\n",
       "    </tr>\n",
       "  </tbody>\n",
       "</table>\n",
       "</div>"
      ],
      "text/plain": [
       "                        TV     Radio  Social Media     Sales  \\\n",
       "TV                1.000000  0.869158      0.527687  0.999497   \n",
       "Radio             0.869158  1.000000      0.606338  0.868638   \n",
       "Social Media      0.527687  0.606338      1.000000  0.527446   \n",
       "Sales             0.999497  0.868638      0.527446  1.000000   \n",
       "Influencer_Macro  0.022174  0.012859      0.014152  0.022349   \n",
       "Influencer_Mega  -0.012797 -0.006580      0.012437 -0.012530   \n",
       "Influencer_Micro -0.005048  0.002400     -0.013923 -0.005218   \n",
       "Influencer_Nano  -0.004097 -0.008570     -0.012582 -0.004367   \n",
       "\n",
       "                  Influencer_Macro  Influencer_Mega  Influencer_Micro  \\\n",
       "TV                        0.022174        -0.012797         -0.005048   \n",
       "Radio                     0.012859        -0.006580          0.002400   \n",
       "Social Media              0.014152         0.012437         -0.013923   \n",
       "Sales                     0.022349        -0.012530         -0.005218   \n",
       "Influencer_Macro          1.000000        -0.331530         -0.330759   \n",
       "Influencer_Mega          -0.331530         1.000000         -0.338633   \n",
       "Influencer_Micro         -0.330759        -0.338633          1.000000   \n",
       "Influencer_Nano          -0.328061        -0.335871         -0.335090   \n",
       "\n",
       "                  Influencer_Nano  \n",
       "TV                      -0.004097  \n",
       "Radio                   -0.008570  \n",
       "Social Media            -0.012582  \n",
       "Sales                   -0.004367  \n",
       "Influencer_Macro        -0.328061  \n",
       "Influencer_Mega         -0.335871  \n",
       "Influencer_Micro        -0.335090  \n",
       "Influencer_Nano          1.000000  "
      ]
     },
     "execution_count": 61,
     "metadata": {},
     "output_type": "execute_result"
    }
   ],
   "source": [
    "inputs = df.drop(\"Influencer\", axis=1)\n",
    "inputs.corr().T"
   ]
  },
  {
   "cell_type": "code",
   "execution_count": 64,
   "metadata": {},
   "outputs": [
    {
     "data": {
      "text/plain": [
       "<Axes: xlabel='Influencer', ylabel='Sales'>"
      ]
     },
     "execution_count": 64,
     "metadata": {},
     "output_type": "execute_result"
    },
    {
     "data": {
      "image/png": "[encoded data removed]",
      "text/plain": [
       "<Figure size 640x480 with 1 Axes>"
      ]
     },
     "metadata": {},
     "output_type": "display_data"
    }
   ],
   "source": [
    "import matplotlib.pyplot as plt \n",
    "import seaborn as sns\n",
    "\n",
    "sns.barplot(x=df['Influencer'], y=df['Sales'])"
   ]
  },
  {
   "cell_type": "code",
   "execution_count": 66,
   "metadata": {},
   "outputs": [
    {
     "data": {
      "text/plain": [
       "Text(0, 0.5, 'Sales')"
      ]
     },
     "execution_count": 66,
     "metadata": {},
     "output_type": "execute_result"
    },
    {
     "data": {
      "image/png": "[encoded data removed]",
      "text/plain": [
       "<Figure size 640x480 with 1 Axes>"
      ]
     },
     "metadata": {},
     "output_type": "display_data"
    }
   ],
   "source": [
    "plt.scatter(df['TV'], df['Sales'] )\n",
    "plt.xlabel('TV')\n",
    "plt.ylabel('Sales')"
   ]
  },
  {
   "cell_type": "code",
   "execution_count": 68,
   "metadata": {},
   "outputs": [
    {
     "data": {
      "text/plain": [
       "Text(0, 0.5, 'Sales')"
      ]
     },
     "execution_count": 68,
     "metadata": {},
     "output_type": "execute_result"
    },
    {
     "data": {
      "image/png": "[encoded data removed]",
      "text/plain": [
       "<Figure size 640x480 with 1 Axes>"
      ]
     },
     "metadata": {},
     "output_type": "display_data"
    }
   ],
   "source": [
    "plt.scatter(df['Radio'], df['Sales'] )\n",
    "plt.xlabel('Radio')\n",
    "plt.ylabel('Sales')"
   ]
  },
  {
   "cell_type": "code",
   "execution_count": 69,
   "metadata": {},
   "outputs": [
    {
     "data": {
      "text/plain": [
       "Text(0, 0.5, 'Sales')"
      ]
     },
     "execution_count": 69,
     "metadata": {},
     "output_type": "execute_result"
    },
    {
     "data": {
      "image/png": "[encoded data removed]",
      "text/plain": [
       "<Figure size 640x480 with 1 Axes>"
      ]
     },
     "metadata": {},
     "output_type": "display_data"
    }
   ],
   "source": [
    "plt.scatter(df['Social Media'], df['Sales'] )\n",
    "plt.xlabel('Radio')\n",
    "plt.ylabel('Sales')"
   ]
  },
  {
   "cell_type": "code",
   "execution_count": 62,
   "metadata": {},
   "outputs": [
    {
     "data": {
      "text/html": [
       "<div>\n",
       "<style scoped>\n",
       "    .dataframe tbody tr th:only-of-type {\n",
       "        vertical-align: middle;\n",
       "    }\n",
       "\n",
       "    .dataframe tbody tr th {\n",
       "        vertical-align: top;\n",
       "    }\n",
       "\n",
       "    .dataframe thead th {\n",
       "        text-align: right;\n",
       "    }\n",
       "</style>\n",
       "<table border=\"1\" class=\"dataframe\">\n",
       "  <thead>\n",
       "    <tr style=\"text-align: right;\">\n",
       "      <th></th>\n",
       "      <th>TV</th>\n",
       "      <th>Radio</th>\n",
       "      <th>Social Media</th>\n",
       "      <th>Influencer_Macro</th>\n",
       "      <th>Influencer_Mega</th>\n",
       "      <th>Influencer_Micro</th>\n",
       "      <th>Influencer_Nano</th>\n",
       "    </tr>\n",
       "  </thead>\n",
       "  <tbody>\n",
       "    <tr>\n",
       "      <th>0</th>\n",
       "      <td>16.0</td>\n",
       "      <td>6.566231</td>\n",
       "      <td>2.907983</td>\n",
       "      <td>0.0</td>\n",
       "      <td>1.0</td>\n",
       "      <td>0.0</td>\n",
       "      <td>0.0</td>\n",
       "    </tr>\n",
       "    <tr>\n",
       "      <th>1</th>\n",
       "      <td>13.0</td>\n",
       "      <td>9.237765</td>\n",
       "      <td>2.409567</td>\n",
       "      <td>0.0</td>\n",
       "      <td>1.0</td>\n",
       "      <td>0.0</td>\n",
       "      <td>0.0</td>\n",
       "    </tr>\n",
       "    <tr>\n",
       "      <th>2</th>\n",
       "      <td>41.0</td>\n",
       "      <td>15.886446</td>\n",
       "      <td>2.913410</td>\n",
       "      <td>0.0</td>\n",
       "      <td>1.0</td>\n",
       "      <td>0.0</td>\n",
       "      <td>0.0</td>\n",
       "    </tr>\n",
       "    <tr>\n",
       "      <th>3</th>\n",
       "      <td>83.0</td>\n",
       "      <td>30.020028</td>\n",
       "      <td>6.922304</td>\n",
       "      <td>0.0</td>\n",
       "      <td>1.0</td>\n",
       "      <td>0.0</td>\n",
       "      <td>0.0</td>\n",
       "    </tr>\n",
       "    <tr>\n",
       "      <th>4</th>\n",
       "      <td>15.0</td>\n",
       "      <td>8.437408</td>\n",
       "      <td>1.405998</td>\n",
       "      <td>0.0</td>\n",
       "      <td>0.0</td>\n",
       "      <td>1.0</td>\n",
       "      <td>0.0</td>\n",
       "    </tr>\n",
       "  </tbody>\n",
       "</table>\n",
       "</div>"
      ],
      "text/plain": [
       "     TV      Radio  Social Media  Influencer_Macro  Influencer_Mega  \\\n",
       "0  16.0   6.566231      2.907983               0.0              1.0   \n",
       "1  13.0   9.237765      2.409567               0.0              1.0   \n",
       "2  41.0  15.886446      2.913410               0.0              1.0   \n",
       "3  83.0  30.020028      6.922304               0.0              1.0   \n",
       "4  15.0   8.437408      1.405998               0.0              0.0   \n",
       "\n",
       "   Influencer_Micro  Influencer_Nano  \n",
       "0               0.0              0.0  \n",
       "1               0.0              0.0  \n",
       "2               0.0              0.0  \n",
       "3               0.0              0.0  \n",
       "4               1.0              0.0  "
      ]
     },
     "execution_count": 62,
     "metadata": {},
     "output_type": "execute_result"
    }
   ],
   "source": [
    "inputs = inputs.drop(\"Sales\", axis=1)\n",
    "target = df[\"Sales\"]\n",
    "inputs.head()"
   ]
  },
  {
   "cell_type": "code",
   "execution_count": 50,
   "metadata": {},
   "outputs": [
    {
     "name": "stdout",
     "output_type": "stream",
     "text": [
      "[54.06291245 18.1575331   3.32347286]\n",
      "[26.10207048  9.66219671  2.21101071]\n"
     ]
    }
   ],
   "source": [
    "from sklearn.preprocessing import StandardScaler\n",
    "import numpy as np\n",
    "\n",
    "scaler = StandardScaler()\n",
    "numeric_inputs = inputs[['TV', 'Radio', 'Social Media']]\n",
    "scaler.fit(numeric_inputs)\n",
    "print(scaler.mean_)\n",
    "print(np.sqrt(scaler.var_))"
   ]
  },
  {
   "cell_type": "code",
   "execution_count": null,
   "metadata": {},
   "outputs": [],
   "source": []
  }
 ],
 "metadata": {
  "kernelspec": {
   "display_name": "Python 3",
   "language": "python",
   "name": "python3"
  },
  "language_info": {
   "codemirror_mode": {
    "name": "ipython",
    "version": 3
   },
   "file_extension": ".py",
   "mimetype": "text/x-python",
   "name": "python",
   "nbconvert_exporter": "python",
   "pygments_lexer": "ipython3",
   "version": "3.11.6"
  }
 },
 "nbformat": 4,
 "nbformat_minor": 2
}
